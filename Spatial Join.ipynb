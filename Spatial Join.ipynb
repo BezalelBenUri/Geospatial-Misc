{
 "cells": [
  {
   "cell_type": "markdown",
   "id": "e9f20bf5-d97b-4c29-8ef6-2a89ec732c4c",
   "metadata": {},
   "source": [
    "* Importing Libraries"
   ]
  },
  {
   "cell_type": "code",
   "execution_count": 1,
   "id": "72047435-dc59-4078-a9f7-af44f6d9fc20",
   "metadata": {},
   "outputs": [
    {
     "name": "stderr",
     "output_type": "stream",
     "text": [
      "D:\\AI\\Python\\Virtual_Environments\\Geospatial_Lab\\lib\\site-packages\\geopandas\\_compat.py:112: UserWarning: The Shapely GEOS version (3.10.1-CAPI-1.16.0) is incompatible with the GEOS version PyGEOS was compiled with (3.10.4-CAPI-1.16.2). Conversions between both will be slow.\n",
      "  warnings.warn(\n"
     ]
    }
   ],
   "source": [
    "import geopandas as gpd\n",
    "from shapely.geometry import Point, LineString\n",
    "\n",
    "import os\n",
    "import glob"
   ]
  },
  {
   "cell_type": "markdown",
   "id": "9cd69e95-6581-48fb-8776-3b7ea650496e",
   "metadata": {},
   "source": [
    "* Importing data"
   ]
  },
  {
   "cell_type": "code",
   "execution_count": 2,
   "id": "5ec3e6c3-2438-4d46-ac35-df696fe24f4b",
   "metadata": {},
   "outputs": [],
   "source": [
    "states_data = gpd.read_file('NGA.shp')\n",
    "road = gpd.read_file('roads_line.shp')"
   ]
  },
  {
   "cell_type": "markdown",
   "id": "46b0695f-e437-403a-95f6-8ae965b8a809",
   "metadata": {},
   "source": [
    "* Coordinate system"
   ]
  },
  {
   "cell_type": "code",
   "execution_count": 3,
   "id": "66b9a824-fa9c-45e2-aff9-6f814a958bc6",
   "metadata": {},
   "outputs": [
    {
     "name": "stdout",
     "output_type": "stream",
     "text": [
      "CRS of states: epsg:32631\n",
      "CRS of roads: epsg:32631\n"
     ]
    }
   ],
   "source": [
    "states = states_data.to_crs('EPSG:32631')\n",
    "roads = road.to_crs('EPSG:32631')\n",
    "\n",
    "roads = roads.to_crs(states.crs)\n",
    "\n",
    "print('CRS of states:', states_data.crs)\n",
    "print('CRS of roads:', road.crs)"
   ]
  },
  {
   "cell_type": "markdown",
   "id": "2a5a2353-bae6-40d3-83a0-ae0a7d0303f0",
   "metadata": {},
   "source": [
    "* Spatial Join"
   ]
  },
  {
   "cell_type": "code",
   "execution_count": 4,
   "id": "884cc7a5-93ad-4f82-9bc1-e0f7b848f89b",
   "metadata": {},
   "outputs": [
    {
     "data": {
      "text/html": [
       "<div>\n",
       "<style scoped>\n",
       "    .dataframe tbody tr th:only-of-type {\n",
       "        vertical-align: middle;\n",
       "    }\n",
       "\n",
       "    .dataframe tbody tr th {\n",
       "        vertical-align: top;\n",
       "    }\n",
       "\n",
       "    .dataframe thead th {\n",
       "        text-align: right;\n",
       "    }\n",
       "</style>\n",
       "<table border=\"1\" class=\"dataframe\">\n",
       "  <thead>\n",
       "    <tr style=\"text-align: right;\">\n",
       "      <th></th>\n",
       "      <th>name</th>\n",
       "      <th>geometry</th>\n",
       "      <th>index_right</th>\n",
       "      <th>OBJECTID_1</th>\n",
       "      <th>OBJECTID</th>\n",
       "      <th>id</th>\n",
       "      <th>geometry_t</th>\n",
       "      <th>state_code</th>\n",
       "      <th>state_name</th>\n",
       "      <th>capital_ci</th>\n",
       "      <th>global_id</th>\n",
       "      <th>source</th>\n",
       "      <th>geographic</th>\n",
       "      <th>Shape__Are</th>\n",
       "      <th>Shape__Len</th>\n",
       "      <th>SHAPE_Leng</th>\n",
       "      <th>Shape_Le_1</th>\n",
       "      <th>Shape_Area</th>\n",
       "    </tr>\n",
       "  </thead>\n",
       "  <tbody>\n",
       "    <tr>\n",
       "      <th>0</th>\n",
       "      <td>Plan-0</td>\n",
       "      <td>LINESTRING Z (965245.148 491194.879 0.000, 965...</td>\n",
       "      <td>22.0</td>\n",
       "      <td>23.0</td>\n",
       "      <td>23.0</td>\n",
       "      <td>sv_boundary_states.fid-65d4c550_169d91acef3_3f96</td>\n",
       "      <td>MULTIPOLYGON</td>\n",
       "      <td>RI</td>\n",
       "      <td>Rivers</td>\n",
       "      <td>Port Harcourt</td>\n",
       "      <td>19af34c7-8f2e-4c9a-9ba1-267eadb2d249</td>\n",
       "      <td>eHA_Polio</td>\n",
       "      <td>SSZ</td>\n",
       "      <td>0.788285</td>\n",
       "      <td>9.298347</td>\n",
       "      <td>9.298347</td>\n",
       "      <td>1.031772e+06</td>\n",
       "      <td>9.706483e+09</td>\n",
       "    </tr>\n",
       "    <tr>\n",
       "      <th>1</th>\n",
       "      <td>Plan-0</td>\n",
       "      <td>LINESTRING Z (961180.363 487452.217 0.000, 961...</td>\n",
       "      <td>22.0</td>\n",
       "      <td>23.0</td>\n",
       "      <td>23.0</td>\n",
       "      <td>sv_boundary_states.fid-65d4c550_169d91acef3_3f96</td>\n",
       "      <td>MULTIPOLYGON</td>\n",
       "      <td>RI</td>\n",
       "      <td>Rivers</td>\n",
       "      <td>Port Harcourt</td>\n",
       "      <td>19af34c7-8f2e-4c9a-9ba1-267eadb2d249</td>\n",
       "      <td>eHA_Polio</td>\n",
       "      <td>SSZ</td>\n",
       "      <td>0.788285</td>\n",
       "      <td>9.298347</td>\n",
       "      <td>9.298347</td>\n",
       "      <td>1.031772e+06</td>\n",
       "      <td>9.706483e+09</td>\n",
       "    </tr>\n",
       "    <tr>\n",
       "      <th>2</th>\n",
       "      <td>Plan-0</td>\n",
       "      <td>LINESTRING Z (961132.360 489581.361 0.000, 961...</td>\n",
       "      <td>22.0</td>\n",
       "      <td>23.0</td>\n",
       "      <td>23.0</td>\n",
       "      <td>sv_boundary_states.fid-65d4c550_169d91acef3_3f96</td>\n",
       "      <td>MULTIPOLYGON</td>\n",
       "      <td>RI</td>\n",
       "      <td>Rivers</td>\n",
       "      <td>Port Harcourt</td>\n",
       "      <td>19af34c7-8f2e-4c9a-9ba1-267eadb2d249</td>\n",
       "      <td>eHA_Polio</td>\n",
       "      <td>SSZ</td>\n",
       "      <td>0.788285</td>\n",
       "      <td>9.298347</td>\n",
       "      <td>9.298347</td>\n",
       "      <td>1.031772e+06</td>\n",
       "      <td>9.706483e+09</td>\n",
       "    </tr>\n",
       "    <tr>\n",
       "      <th>3</th>\n",
       "      <td>Plan-0</td>\n",
       "      <td>LINESTRING Z (962746.743 489577.461 0.000, 962...</td>\n",
       "      <td>22.0</td>\n",
       "      <td>23.0</td>\n",
       "      <td>23.0</td>\n",
       "      <td>sv_boundary_states.fid-65d4c550_169d91acef3_3f96</td>\n",
       "      <td>MULTIPOLYGON</td>\n",
       "      <td>RI</td>\n",
       "      <td>Rivers</td>\n",
       "      <td>Port Harcourt</td>\n",
       "      <td>19af34c7-8f2e-4c9a-9ba1-267eadb2d249</td>\n",
       "      <td>eHA_Polio</td>\n",
       "      <td>SSZ</td>\n",
       "      <td>0.788285</td>\n",
       "      <td>9.298347</td>\n",
       "      <td>9.298347</td>\n",
       "      <td>1.031772e+06</td>\n",
       "      <td>9.706483e+09</td>\n",
       "    </tr>\n",
       "    <tr>\n",
       "      <th>4</th>\n",
       "      <td>Plan-0</td>\n",
       "      <td>LINESTRING Z (964374.799 490914.036 0.000, 964...</td>\n",
       "      <td>22.0</td>\n",
       "      <td>23.0</td>\n",
       "      <td>23.0</td>\n",
       "      <td>sv_boundary_states.fid-65d4c550_169d91acef3_3f96</td>\n",
       "      <td>MULTIPOLYGON</td>\n",
       "      <td>RI</td>\n",
       "      <td>Rivers</td>\n",
       "      <td>Port Harcourt</td>\n",
       "      <td>19af34c7-8f2e-4c9a-9ba1-267eadb2d249</td>\n",
       "      <td>eHA_Polio</td>\n",
       "      <td>SSZ</td>\n",
       "      <td>0.788285</td>\n",
       "      <td>9.298347</td>\n",
       "      <td>9.298347</td>\n",
       "      <td>1.031772e+06</td>\n",
       "      <td>9.706483e+09</td>\n",
       "    </tr>\n",
       "    <tr>\n",
       "      <th>...</th>\n",
       "      <td>...</td>\n",
       "      <td>...</td>\n",
       "      <td>...</td>\n",
       "      <td>...</td>\n",
       "      <td>...</td>\n",
       "      <td>...</td>\n",
       "      <td>...</td>\n",
       "      <td>...</td>\n",
       "      <td>...</td>\n",
       "      <td>...</td>\n",
       "      <td>...</td>\n",
       "      <td>...</td>\n",
       "      <td>...</td>\n",
       "      <td>...</td>\n",
       "      <td>...</td>\n",
       "      <td>...</td>\n",
       "      <td>...</td>\n",
       "      <td>...</td>\n",
       "    </tr>\n",
       "    <tr>\n",
       "      <th>1515529</th>\n",
       "      <td>Plan-0</td>\n",
       "      <td>LINESTRING Z (865335.895 475833.355 0.000, 865...</td>\n",
       "      <td>33.0</td>\n",
       "      <td>34.0</td>\n",
       "      <td>34.0</td>\n",
       "      <td>sv_boundary_states.fid-65d4c550_169d91acef3_3fbc</td>\n",
       "      <td>MULTIPOLYGON</td>\n",
       "      <td>BY</td>\n",
       "      <td>Bayelsa</td>\n",
       "      <td>Yenagoa</td>\n",
       "      <td>c92e2ed6-a32c-4b10-b084-1243d6a40178</td>\n",
       "      <td>eHA_Polio</td>\n",
       "      <td>SSZ</td>\n",
       "      <td>0.765492</td>\n",
       "      <td>5.280063</td>\n",
       "      <td>5.280063</td>\n",
       "      <td>5.854484e+05</td>\n",
       "      <td>9.410296e+09</td>\n",
       "    </tr>\n",
       "    <tr>\n",
       "      <th>1515530</th>\n",
       "      <td>Plan-0</td>\n",
       "      <td>LINESTRING Z (859924.381 477179.596 0.000, 859...</td>\n",
       "      <td>33.0</td>\n",
       "      <td>34.0</td>\n",
       "      <td>34.0</td>\n",
       "      <td>sv_boundary_states.fid-65d4c550_169d91acef3_3fbc</td>\n",
       "      <td>MULTIPOLYGON</td>\n",
       "      <td>BY</td>\n",
       "      <td>Bayelsa</td>\n",
       "      <td>Yenagoa</td>\n",
       "      <td>c92e2ed6-a32c-4b10-b084-1243d6a40178</td>\n",
       "      <td>eHA_Polio</td>\n",
       "      <td>SSZ</td>\n",
       "      <td>0.765492</td>\n",
       "      <td>5.280063</td>\n",
       "      <td>5.280063</td>\n",
       "      <td>5.854484e+05</td>\n",
       "      <td>9.410296e+09</td>\n",
       "    </tr>\n",
       "    <tr>\n",
       "      <th>1515531</th>\n",
       "      <td>Plan-0</td>\n",
       "      <td>LINESTRING Z (862229.778 475503.223 0.000, 862...</td>\n",
       "      <td>33.0</td>\n",
       "      <td>34.0</td>\n",
       "      <td>34.0</td>\n",
       "      <td>sv_boundary_states.fid-65d4c550_169d91acef3_3fbc</td>\n",
       "      <td>MULTIPOLYGON</td>\n",
       "      <td>BY</td>\n",
       "      <td>Bayelsa</td>\n",
       "      <td>Yenagoa</td>\n",
       "      <td>c92e2ed6-a32c-4b10-b084-1243d6a40178</td>\n",
       "      <td>eHA_Polio</td>\n",
       "      <td>SSZ</td>\n",
       "      <td>0.765492</td>\n",
       "      <td>5.280063</td>\n",
       "      <td>5.280063</td>\n",
       "      <td>5.854484e+05</td>\n",
       "      <td>9.410296e+09</td>\n",
       "    </tr>\n",
       "    <tr>\n",
       "      <th>1515532</th>\n",
       "      <td>Plan-0</td>\n",
       "      <td>LINESTRING Z (859880.082 477192.262 0.000, 859...</td>\n",
       "      <td>33.0</td>\n",
       "      <td>34.0</td>\n",
       "      <td>34.0</td>\n",
       "      <td>sv_boundary_states.fid-65d4c550_169d91acef3_3fbc</td>\n",
       "      <td>MULTIPOLYGON</td>\n",
       "      <td>BY</td>\n",
       "      <td>Bayelsa</td>\n",
       "      <td>Yenagoa</td>\n",
       "      <td>c92e2ed6-a32c-4b10-b084-1243d6a40178</td>\n",
       "      <td>eHA_Polio</td>\n",
       "      <td>SSZ</td>\n",
       "      <td>0.765492</td>\n",
       "      <td>5.280063</td>\n",
       "      <td>5.280063</td>\n",
       "      <td>5.854484e+05</td>\n",
       "      <td>9.410296e+09</td>\n",
       "    </tr>\n",
       "    <tr>\n",
       "      <th>1515533</th>\n",
       "      <td>Plan-0</td>\n",
       "      <td>LINESTRING Z (865235.992 475978.577 0.000, 865...</td>\n",
       "      <td>33.0</td>\n",
       "      <td>34.0</td>\n",
       "      <td>34.0</td>\n",
       "      <td>sv_boundary_states.fid-65d4c550_169d91acef3_3fbc</td>\n",
       "      <td>MULTIPOLYGON</td>\n",
       "      <td>BY</td>\n",
       "      <td>Bayelsa</td>\n",
       "      <td>Yenagoa</td>\n",
       "      <td>c92e2ed6-a32c-4b10-b084-1243d6a40178</td>\n",
       "      <td>eHA_Polio</td>\n",
       "      <td>SSZ</td>\n",
       "      <td>0.765492</td>\n",
       "      <td>5.280063</td>\n",
       "      <td>5.280063</td>\n",
       "      <td>5.854484e+05</td>\n",
       "      <td>9.410296e+09</td>\n",
       "    </tr>\n",
       "  </tbody>\n",
       "</table>\n",
       "<p>1516569 rows × 18 columns</p>\n",
       "</div>"
      ],
      "text/plain": [
       "           name                                           geometry  \\\n",
       "0        Plan-0  LINESTRING Z (965245.148 491194.879 0.000, 965...   \n",
       "1        Plan-0  LINESTRING Z (961180.363 487452.217 0.000, 961...   \n",
       "2        Plan-0  LINESTRING Z (961132.360 489581.361 0.000, 961...   \n",
       "3        Plan-0  LINESTRING Z (962746.743 489577.461 0.000, 962...   \n",
       "4        Plan-0  LINESTRING Z (964374.799 490914.036 0.000, 964...   \n",
       "...         ...                                                ...   \n",
       "1515529  Plan-0  LINESTRING Z (865335.895 475833.355 0.000, 865...   \n",
       "1515530  Plan-0  LINESTRING Z (859924.381 477179.596 0.000, 859...   \n",
       "1515531  Plan-0  LINESTRING Z (862229.778 475503.223 0.000, 862...   \n",
       "1515532  Plan-0  LINESTRING Z (859880.082 477192.262 0.000, 859...   \n",
       "1515533  Plan-0  LINESTRING Z (865235.992 475978.577 0.000, 865...   \n",
       "\n",
       "         index_right  OBJECTID_1  OBJECTID  \\\n",
       "0               22.0        23.0      23.0   \n",
       "1               22.0        23.0      23.0   \n",
       "2               22.0        23.0      23.0   \n",
       "3               22.0        23.0      23.0   \n",
       "4               22.0        23.0      23.0   \n",
       "...              ...         ...       ...   \n",
       "1515529         33.0        34.0      34.0   \n",
       "1515530         33.0        34.0      34.0   \n",
       "1515531         33.0        34.0      34.0   \n",
       "1515532         33.0        34.0      34.0   \n",
       "1515533         33.0        34.0      34.0   \n",
       "\n",
       "                                                       id    geometry_t  \\\n",
       "0        sv_boundary_states.fid-65d4c550_169d91acef3_3f96  MULTIPOLYGON   \n",
       "1        sv_boundary_states.fid-65d4c550_169d91acef3_3f96  MULTIPOLYGON   \n",
       "2        sv_boundary_states.fid-65d4c550_169d91acef3_3f96  MULTIPOLYGON   \n",
       "3        sv_boundary_states.fid-65d4c550_169d91acef3_3f96  MULTIPOLYGON   \n",
       "4        sv_boundary_states.fid-65d4c550_169d91acef3_3f96  MULTIPOLYGON   \n",
       "...                                                   ...           ...   \n",
       "1515529  sv_boundary_states.fid-65d4c550_169d91acef3_3fbc  MULTIPOLYGON   \n",
       "1515530  sv_boundary_states.fid-65d4c550_169d91acef3_3fbc  MULTIPOLYGON   \n",
       "1515531  sv_boundary_states.fid-65d4c550_169d91acef3_3fbc  MULTIPOLYGON   \n",
       "1515532  sv_boundary_states.fid-65d4c550_169d91acef3_3fbc  MULTIPOLYGON   \n",
       "1515533  sv_boundary_states.fid-65d4c550_169d91acef3_3fbc  MULTIPOLYGON   \n",
       "\n",
       "        state_code state_name     capital_ci  \\\n",
       "0               RI     Rivers  Port Harcourt   \n",
       "1               RI     Rivers  Port Harcourt   \n",
       "2               RI     Rivers  Port Harcourt   \n",
       "3               RI     Rivers  Port Harcourt   \n",
       "4               RI     Rivers  Port Harcourt   \n",
       "...            ...        ...            ...   \n",
       "1515529         BY    Bayelsa        Yenagoa   \n",
       "1515530         BY    Bayelsa        Yenagoa   \n",
       "1515531         BY    Bayelsa        Yenagoa   \n",
       "1515532         BY    Bayelsa        Yenagoa   \n",
       "1515533         BY    Bayelsa        Yenagoa   \n",
       "\n",
       "                                    global_id     source geographic  \\\n",
       "0        19af34c7-8f2e-4c9a-9ba1-267eadb2d249  eHA_Polio        SSZ   \n",
       "1        19af34c7-8f2e-4c9a-9ba1-267eadb2d249  eHA_Polio        SSZ   \n",
       "2        19af34c7-8f2e-4c9a-9ba1-267eadb2d249  eHA_Polio        SSZ   \n",
       "3        19af34c7-8f2e-4c9a-9ba1-267eadb2d249  eHA_Polio        SSZ   \n",
       "4        19af34c7-8f2e-4c9a-9ba1-267eadb2d249  eHA_Polio        SSZ   \n",
       "...                                       ...        ...        ...   \n",
       "1515529  c92e2ed6-a32c-4b10-b084-1243d6a40178  eHA_Polio        SSZ   \n",
       "1515530  c92e2ed6-a32c-4b10-b084-1243d6a40178  eHA_Polio        SSZ   \n",
       "1515531  c92e2ed6-a32c-4b10-b084-1243d6a40178  eHA_Polio        SSZ   \n",
       "1515532  c92e2ed6-a32c-4b10-b084-1243d6a40178  eHA_Polio        SSZ   \n",
       "1515533  c92e2ed6-a32c-4b10-b084-1243d6a40178  eHA_Polio        SSZ   \n",
       "\n",
       "         Shape__Are  Shape__Len  SHAPE_Leng    Shape_Le_1    Shape_Area  \n",
       "0          0.788285    9.298347    9.298347  1.031772e+06  9.706483e+09  \n",
       "1          0.788285    9.298347    9.298347  1.031772e+06  9.706483e+09  \n",
       "2          0.788285    9.298347    9.298347  1.031772e+06  9.706483e+09  \n",
       "3          0.788285    9.298347    9.298347  1.031772e+06  9.706483e+09  \n",
       "4          0.788285    9.298347    9.298347  1.031772e+06  9.706483e+09  \n",
       "...             ...         ...         ...           ...           ...  \n",
       "1515529    0.765492    5.280063    5.280063  5.854484e+05  9.410296e+09  \n",
       "1515530    0.765492    5.280063    5.280063  5.854484e+05  9.410296e+09  \n",
       "1515531    0.765492    5.280063    5.280063  5.854484e+05  9.410296e+09  \n",
       "1515532    0.765492    5.280063    5.280063  5.854484e+05  9.410296e+09  \n",
       "1515533    0.765492    5.280063    5.280063  5.854484e+05  9.410296e+09  \n",
       "\n",
       "[1516569 rows x 18 columns]"
      ]
     },
     "execution_count": 4,
     "metadata": {},
     "output_type": "execute_result"
    }
   ],
   "source": [
    "joined_data = gpd.sjoin(road, states, how = 'left')\n",
    "joined_data"
   ]
  },
  {
   "cell_type": "code",
   "execution_count": 5,
   "id": "19448d09-cba6-46ca-9a30-2d67d1afc8b0",
   "metadata": {},
   "outputs": [
    {
     "name": "stderr",
     "output_type": "stream",
     "text": [
      "C:\\Users\\OEA Consults\\AppData\\Local\\Temp\\ipykernel_15236\\2393698126.py:1: UserWarning: Column names longer than 10 characters will be truncated when saved to ESRI Shapefile.\n",
      "  joined_data.to_file('NGA_roads.shp')\n"
     ]
    }
   ],
   "source": [
    "joined_data.to_file('NGA_roads.shp')"
   ]
  },
  {
   "cell_type": "markdown",
   "id": "4f6b444b-2944-45f7-ad44-56d667705123",
   "metadata": {},
   "source": [
    "* save shp\n",
    "* convert to kml"
   ]
  },
  {
   "cell_type": "code",
   "execution_count": 6,
   "id": "09da524d-2b87-488d-ab5a-b945326fee97",
   "metadata": {
    "collapsed": true,
    "jupyter": {
     "outputs_hidden": true
    },
    "tags": []
   },
   "outputs": [
    {
     "name": "stderr",
     "output_type": "stream",
     "text": [
      "C:\\Users\\OEA Consults\\AppData\\Local\\Temp\\ipykernel_15236\\2381834214.py:5: UserWarning: Column names longer than 10 characters will be truncated when saved to ESRI Shapefile.\n",
      "  state_lines.to_file(state_filename)\n"
     ]
    },
    {
     "name": "stdout",
     "output_type": "stream",
     "text": [
      "Successfully saved Rivers_Roads.shp\n",
      "Successfully converted Rivers_Roads.shp to Rivers_Roads.kml\n"
     ]
    },
    {
     "name": "stderr",
     "output_type": "stream",
     "text": [
      "C:\\Users\\OEA Consults\\AppData\\Local\\Temp\\ipykernel_15236\\2381834214.py:5: UserWarning: Column names longer than 10 characters will be truncated when saved to ESRI Shapefile.\n",
      "  state_lines.to_file(state_filename)\n"
     ]
    },
    {
     "name": "stdout",
     "output_type": "stream",
     "text": [
      "Successfully saved Ogun_Roads.shp\n",
      "Successfully converted Ogun_Roads.shp to Ogun_Roads.kml\n"
     ]
    },
    {
     "name": "stderr",
     "output_type": "stream",
     "text": [
      "C:\\Users\\OEA Consults\\AppData\\Local\\Temp\\ipykernel_15236\\2381834214.py:5: UserWarning: Column names longer than 10 characters will be truncated when saved to ESRI Shapefile.\n",
      "  state_lines.to_file(state_filename)\n"
     ]
    },
    {
     "name": "stdout",
     "output_type": "stream",
     "text": [
      "Successfully saved Kano_Roads.shp\n",
      "Successfully converted Kano_Roads.shp to Kano_Roads.kml\n"
     ]
    },
    {
     "name": "stderr",
     "output_type": "stream",
     "text": [
      "C:\\Users\\OEA Consults\\AppData\\Local\\Temp\\ipykernel_15236\\2381834214.py:5: UserWarning: Column names longer than 10 characters will be truncated when saved to ESRI Shapefile.\n",
      "  state_lines.to_file(state_filename)\n"
     ]
    },
    {
     "name": "stdout",
     "output_type": "stream",
     "text": [
      "Successfully saved Katsina_Roads.shp\n",
      "Successfully converted Katsina_Roads.shp to Katsina_Roads.kml\n"
     ]
    },
    {
     "name": "stderr",
     "output_type": "stream",
     "text": [
      "C:\\Users\\OEA Consults\\AppData\\Local\\Temp\\ipykernel_15236\\2381834214.py:5: UserWarning: Column names longer than 10 characters will be truncated when saved to ESRI Shapefile.\n",
      "  state_lines.to_file(state_filename)\n"
     ]
    },
    {
     "name": "stdout",
     "output_type": "stream",
     "text": [
      "Successfully saved Oyo_Roads.shp\n",
      "Successfully converted Oyo_Roads.shp to Oyo_Roads.kml\n"
     ]
    },
    {
     "name": "stderr",
     "output_type": "stream",
     "text": [
      "C:\\Users\\OEA Consults\\AppData\\Local\\Temp\\ipykernel_15236\\2381834214.py:5: UserWarning: Column names longer than 10 characters will be truncated when saved to ESRI Shapefile.\n",
      "  state_lines.to_file(state_filename)\n"
     ]
    },
    {
     "name": "stdout",
     "output_type": "stream",
     "text": [
      "Successfully saved Kogi_Roads.shp\n",
      "Successfully converted Kogi_Roads.shp to Kogi_Roads.kml\n"
     ]
    },
    {
     "name": "stderr",
     "output_type": "stream",
     "text": [
      "C:\\Users\\OEA Consults\\AppData\\Local\\Temp\\ipykernel_15236\\2381834214.py:5: UserWarning: Column names longer than 10 characters will be truncated when saved to ESRI Shapefile.\n",
      "  state_lines.to_file(state_filename)\n"
     ]
    },
    {
     "name": "stdout",
     "output_type": "stream",
     "text": [
      "Successfully saved Jigawa_Roads.shp\n",
      "Successfully converted Jigawa_Roads.shp to Jigawa_Roads.kml\n"
     ]
    },
    {
     "name": "stderr",
     "output_type": "stream",
     "text": [
      "C:\\Users\\OEA Consults\\AppData\\Local\\Temp\\ipykernel_15236\\2381834214.py:5: UserWarning: Column names longer than 10 characters will be truncated when saved to ESRI Shapefile.\n",
      "  state_lines.to_file(state_filename)\n"
     ]
    },
    {
     "name": "stdout",
     "output_type": "stream",
     "text": [
      "Successfully saved Zamfara_Roads.shp\n",
      "Successfully converted Zamfara_Roads.shp to Zamfara_Roads.kml\n"
     ]
    },
    {
     "name": "stderr",
     "output_type": "stream",
     "text": [
      "C:\\Users\\OEA Consults\\AppData\\Local\\Temp\\ipykernel_15236\\2381834214.py:5: UserWarning: Column names longer than 10 characters will be truncated when saved to ESRI Shapefile.\n",
      "  state_lines.to_file(state_filename)\n"
     ]
    },
    {
     "name": "stdout",
     "output_type": "stream",
     "text": [
      "Successfully saved Nasarawa_Roads.shp\n",
      "Successfully converted Nasarawa_Roads.shp to Nasarawa_Roads.kml\n"
     ]
    },
    {
     "name": "stderr",
     "output_type": "stream",
     "text": [
      "C:\\Users\\OEA Consults\\AppData\\Local\\Temp\\ipykernel_15236\\2381834214.py:5: UserWarning: Column names longer than 10 characters will be truncated when saved to ESRI Shapefile.\n",
      "  state_lines.to_file(state_filename)\n"
     ]
    },
    {
     "name": "stdout",
     "output_type": "stream",
     "text": [
      "Successfully saved Fct_Roads.shp\n",
      "Successfully converted Fct_Roads.shp to Fct_Roads.kml\n"
     ]
    },
    {
     "name": "stderr",
     "output_type": "stream",
     "text": [
      "C:\\Users\\OEA Consults\\AppData\\Local\\Temp\\ipykernel_15236\\2381834214.py:5: UserWarning: Column names longer than 10 characters will be truncated when saved to ESRI Shapefile.\n",
      "  state_lines.to_file(state_filename)\n"
     ]
    },
    {
     "name": "stdout",
     "output_type": "stream",
     "text": [
      "Successfully saved Kaduna_Roads.shp\n",
      "Successfully converted Kaduna_Roads.shp to Kaduna_Roads.kml\n"
     ]
    },
    {
     "name": "stderr",
     "output_type": "stream",
     "text": [
      "C:\\Users\\OEA Consults\\AppData\\Local\\Temp\\ipykernel_15236\\2381834214.py:5: UserWarning: Column names longer than 10 characters will be truncated when saved to ESRI Shapefile.\n",
      "  state_lines.to_file(state_filename)\n"
     ]
    },
    {
     "name": "stdout",
     "output_type": "stream",
     "text": [
      "Successfully saved Edo_Roads.shp\n",
      "Successfully converted Edo_Roads.shp to Edo_Roads.kml\n"
     ]
    },
    {
     "name": "stderr",
     "output_type": "stream",
     "text": [
      "C:\\Users\\OEA Consults\\AppData\\Local\\Temp\\ipykernel_15236\\2381834214.py:5: UserWarning: Column names longer than 10 characters will be truncated when saved to ESRI Shapefile.\n",
      "  state_lines.to_file(state_filename)\n"
     ]
    },
    {
     "name": "stdout",
     "output_type": "stream",
     "text": [
      "Successfully saved Borno_Roads.shp\n",
      "Successfully converted Borno_Roads.shp to Borno_Roads.kml\n"
     ]
    },
    {
     "name": "stderr",
     "output_type": "stream",
     "text": [
      "C:\\Users\\OEA Consults\\AppData\\Local\\Temp\\ipykernel_15236\\2381834214.py:5: UserWarning: Column names longer than 10 characters will be truncated when saved to ESRI Shapefile.\n",
      "  state_lines.to_file(state_filename)\n"
     ]
    },
    {
     "name": "stdout",
     "output_type": "stream",
     "text": [
      "Successfully saved Imo_Roads.shp\n",
      "Successfully converted Imo_Roads.shp to Imo_Roads.kml\n"
     ]
    },
    {
     "name": "stderr",
     "output_type": "stream",
     "text": [
      "C:\\Users\\OEA Consults\\AppData\\Local\\Temp\\ipykernel_15236\\2381834214.py:5: UserWarning: Column names longer than 10 characters will be truncated when saved to ESRI Shapefile.\n",
      "  state_lines.to_file(state_filename)\n"
     ]
    },
    {
     "name": "stdout",
     "output_type": "stream",
     "text": [
      "Successfully saved Sokoto_Roads.shp\n",
      "Successfully converted Sokoto_Roads.shp to Sokoto_Roads.kml\n"
     ]
    },
    {
     "name": "stderr",
     "output_type": "stream",
     "text": [
      "C:\\Users\\OEA Consults\\AppData\\Local\\Temp\\ipykernel_15236\\2381834214.py:5: UserWarning: Column names longer than 10 characters will be truncated when saved to ESRI Shapefile.\n",
      "  state_lines.to_file(state_filename)\n"
     ]
    },
    {
     "name": "stdout",
     "output_type": "stream",
     "text": [
      "Successfully saved Ebonyi_Roads.shp\n",
      "Successfully converted Ebonyi_Roads.shp to Ebonyi_Roads.kml\n"
     ]
    },
    {
     "name": "stderr",
     "output_type": "stream",
     "text": [
      "C:\\Users\\OEA Consults\\AppData\\Local\\Temp\\ipykernel_15236\\2381834214.py:5: UserWarning: Column names longer than 10 characters will be truncated when saved to ESRI Shapefile.\n",
      "  state_lines.to_file(state_filename)\n"
     ]
    },
    {
     "name": "stdout",
     "output_type": "stream",
     "text": [
      "Successfully saved Adamawa_Roads.shp\n",
      "Successfully converted Adamawa_Roads.shp to Adamawa_Roads.kml\n"
     ]
    },
    {
     "name": "stderr",
     "output_type": "stream",
     "text": [
      "C:\\Users\\OEA Consults\\AppData\\Local\\Temp\\ipykernel_15236\\2381834214.py:5: UserWarning: Column names longer than 10 characters will be truncated when saved to ESRI Shapefile.\n",
      "  state_lines.to_file(state_filename)\n"
     ]
    },
    {
     "name": "stdout",
     "output_type": "stream",
     "text": [
      "Successfully saved Gombe_Roads.shp\n",
      "Successfully converted Gombe_Roads.shp to Gombe_Roads.kml\n"
     ]
    },
    {
     "name": "stderr",
     "output_type": "stream",
     "text": [
      "C:\\Users\\OEA Consults\\AppData\\Local\\Temp\\ipykernel_15236\\2381834214.py:5: UserWarning: Column names longer than 10 characters will be truncated when saved to ESRI Shapefile.\n",
      "  state_lines.to_file(state_filename)\n"
     ]
    },
    {
     "name": "stdout",
     "output_type": "stream",
     "text": [
      "Successfully saved Plateau_Roads.shp\n",
      "Successfully converted Plateau_Roads.shp to Plateau_Roads.kml\n"
     ]
    },
    {
     "name": "stderr",
     "output_type": "stream",
     "text": [
      "C:\\Users\\OEA Consults\\AppData\\Local\\Temp\\ipykernel_15236\\2381834214.py:5: UserWarning: Column names longer than 10 characters will be truncated when saved to ESRI Shapefile.\n",
      "  state_lines.to_file(state_filename)\n"
     ]
    },
    {
     "name": "stdout",
     "output_type": "stream",
     "text": [
      "Successfully saved Bauchi_Roads.shp\n",
      "Successfully converted Bauchi_Roads.shp to Bauchi_Roads.kml\n"
     ]
    },
    {
     "name": "stderr",
     "output_type": "stream",
     "text": [
      "C:\\Users\\OEA Consults\\AppData\\Local\\Temp\\ipykernel_15236\\2381834214.py:5: UserWarning: Column names longer than 10 characters will be truncated when saved to ESRI Shapefile.\n",
      "  state_lines.to_file(state_filename)\n"
     ]
    },
    {
     "name": "stdout",
     "output_type": "stream",
     "text": [
      "Successfully saved Benue_Roads.shp\n",
      "Successfully converted Benue_Roads.shp to Benue_Roads.kml\n"
     ]
    },
    {
     "name": "stderr",
     "output_type": "stream",
     "text": [
      "C:\\Users\\OEA Consults\\AppData\\Local\\Temp\\ipykernel_15236\\2381834214.py:5: UserWarning: Column names longer than 10 characters will be truncated when saved to ESRI Shapefile.\n",
      "  state_lines.to_file(state_filename)\n"
     ]
    },
    {
     "name": "stdout",
     "output_type": "stream",
     "text": [
      "Successfully saved Lagos_Roads.shp\n",
      "Successfully converted Lagos_Roads.shp to Lagos_Roads.kml\n"
     ]
    },
    {
     "name": "stderr",
     "output_type": "stream",
     "text": [
      "C:\\Users\\OEA Consults\\AppData\\Local\\Temp\\ipykernel_15236\\2381834214.py:5: UserWarning: Column names longer than 10 characters will be truncated when saved to ESRI Shapefile.\n",
      "  state_lines.to_file(state_filename)\n"
     ]
    },
    {
     "name": "stdout",
     "output_type": "stream",
     "text": [
      "Successfully saved Enugu_Roads.shp\n",
      "Successfully converted Enugu_Roads.shp to Enugu_Roads.kml\n"
     ]
    },
    {
     "name": "stderr",
     "output_type": "stream",
     "text": [
      "C:\\Users\\OEA Consults\\AppData\\Local\\Temp\\ipykernel_15236\\2381834214.py:5: UserWarning: Column names longer than 10 characters will be truncated when saved to ESRI Shapefile.\n",
      "  state_lines.to_file(state_filename)\n"
     ]
    },
    {
     "name": "stdout",
     "output_type": "stream",
     "text": [
      "Successfully saved Akwa Ibom_Roads.shp\n",
      "Successfully converted Akwa Ibom_Roads.shp to Akwa Ibom_Roads.kml\n",
      "Successfully saved nan_Roads.shp\n",
      "Successfully converted nan_Roads.shp to nan_Roads.kml\n"
     ]
    },
    {
     "name": "stderr",
     "output_type": "stream",
     "text": [
      "C:\\Users\\OEA Consults\\AppData\\Local\\Temp\\ipykernel_15236\\2381834214.py:5: UserWarning: Column names longer than 10 characters will be truncated when saved to ESRI Shapefile.\n",
      "  state_lines.to_file(state_filename)\n",
      "D:\\AI\\Python\\Virtual_Environments\\Geospatial_Lab\\lib\\site-packages\\geopandas\\io\\file.py:525: UserWarning: You are attempting to write an empty DataFrame to file. For some drivers, this operation may fail.\n",
      "  _to_file_fiona(df, filename, driver, schema, crs, mode, **kwargs)\n",
      "C:\\Users\\OEA Consults\\AppData\\Local\\Temp\\ipykernel_15236\\2381834214.py:5: UserWarning: Column names longer than 10 characters will be truncated when saved to ESRI Shapefile.\n",
      "  state_lines.to_file(state_filename)\n"
     ]
    },
    {
     "name": "stdout",
     "output_type": "stream",
     "text": [
      "Successfully saved Kebbi_Roads.shp\n",
      "Successfully converted Kebbi_Roads.shp to Kebbi_Roads.kml\n"
     ]
    },
    {
     "name": "stderr",
     "output_type": "stream",
     "text": [
      "C:\\Users\\OEA Consults\\AppData\\Local\\Temp\\ipykernel_15236\\2381834214.py:5: UserWarning: Column names longer than 10 characters will be truncated when saved to ESRI Shapefile.\n",
      "  state_lines.to_file(state_filename)\n"
     ]
    },
    {
     "name": "stdout",
     "output_type": "stream",
     "text": [
      "Successfully saved Ondo_Roads.shp\n",
      "Successfully converted Ondo_Roads.shp to Ondo_Roads.kml\n"
     ]
    },
    {
     "name": "stderr",
     "output_type": "stream",
     "text": [
      "C:\\Users\\OEA Consults\\AppData\\Local\\Temp\\ipykernel_15236\\2381834214.py:5: UserWarning: Column names longer than 10 characters will be truncated when saved to ESRI Shapefile.\n",
      "  state_lines.to_file(state_filename)\n"
     ]
    },
    {
     "name": "stdout",
     "output_type": "stream",
     "text": [
      "Successfully saved Ekiti_Roads.shp\n",
      "Successfully converted Ekiti_Roads.shp to Ekiti_Roads.kml\n"
     ]
    },
    {
     "name": "stderr",
     "output_type": "stream",
     "text": [
      "C:\\Users\\OEA Consults\\AppData\\Local\\Temp\\ipykernel_15236\\2381834214.py:5: UserWarning: Column names longer than 10 characters will be truncated when saved to ESRI Shapefile.\n",
      "  state_lines.to_file(state_filename)\n"
     ]
    },
    {
     "name": "stdout",
     "output_type": "stream",
     "text": [
      "Successfully saved Delta_Roads.shp\n",
      "Successfully converted Delta_Roads.shp to Delta_Roads.kml\n"
     ]
    },
    {
     "name": "stderr",
     "output_type": "stream",
     "text": [
      "C:\\Users\\OEA Consults\\AppData\\Local\\Temp\\ipykernel_15236\\2381834214.py:5: UserWarning: Column names longer than 10 characters will be truncated when saved to ESRI Shapefile.\n",
      "  state_lines.to_file(state_filename)\n"
     ]
    },
    {
     "name": "stdout",
     "output_type": "stream",
     "text": [
      "Successfully saved Anambra_Roads.shp\n",
      "Successfully converted Anambra_Roads.shp to Anambra_Roads.kml\n"
     ]
    },
    {
     "name": "stderr",
     "output_type": "stream",
     "text": [
      "C:\\Users\\OEA Consults\\AppData\\Local\\Temp\\ipykernel_15236\\2381834214.py:5: UserWarning: Column names longer than 10 characters will be truncated when saved to ESRI Shapefile.\n",
      "  state_lines.to_file(state_filename)\n"
     ]
    },
    {
     "name": "stdout",
     "output_type": "stream",
     "text": [
      "Successfully saved Cross River_Roads.shp\n",
      "Successfully converted Cross River_Roads.shp to Cross River_Roads.kml\n"
     ]
    },
    {
     "name": "stderr",
     "output_type": "stream",
     "text": [
      "C:\\Users\\OEA Consults\\AppData\\Local\\Temp\\ipykernel_15236\\2381834214.py:5: UserWarning: Column names longer than 10 characters will be truncated when saved to ESRI Shapefile.\n",
      "  state_lines.to_file(state_filename)\n"
     ]
    },
    {
     "name": "stdout",
     "output_type": "stream",
     "text": [
      "Successfully saved Taraba_Roads.shp\n",
      "Successfully converted Taraba_Roads.shp to Taraba_Roads.kml\n"
     ]
    },
    {
     "name": "stderr",
     "output_type": "stream",
     "text": [
      "C:\\Users\\OEA Consults\\AppData\\Local\\Temp\\ipykernel_15236\\2381834214.py:5: UserWarning: Column names longer than 10 characters will be truncated when saved to ESRI Shapefile.\n",
      "  state_lines.to_file(state_filename)\n"
     ]
    },
    {
     "name": "stdout",
     "output_type": "stream",
     "text": [
      "Successfully saved Abia_Roads.shp\n",
      "Successfully converted Abia_Roads.shp to Abia_Roads.kml\n"
     ]
    },
    {
     "name": "stderr",
     "output_type": "stream",
     "text": [
      "C:\\Users\\OEA Consults\\AppData\\Local\\Temp\\ipykernel_15236\\2381834214.py:5: UserWarning: Column names longer than 10 characters will be truncated when saved to ESRI Shapefile.\n",
      "  state_lines.to_file(state_filename)\n"
     ]
    },
    {
     "name": "stdout",
     "output_type": "stream",
     "text": [
      "Successfully saved Kwara_Roads.shp\n",
      "Successfully converted Kwara_Roads.shp to Kwara_Roads.kml\n"
     ]
    },
    {
     "name": "stderr",
     "output_type": "stream",
     "text": [
      "C:\\Users\\OEA Consults\\AppData\\Local\\Temp\\ipykernel_15236\\2381834214.py:5: UserWarning: Column names longer than 10 characters will be truncated when saved to ESRI Shapefile.\n",
      "  state_lines.to_file(state_filename)\n"
     ]
    },
    {
     "name": "stdout",
     "output_type": "stream",
     "text": [
      "Successfully saved Yobe_Roads.shp\n",
      "Successfully converted Yobe_Roads.shp to Yobe_Roads.kml\n"
     ]
    },
    {
     "name": "stderr",
     "output_type": "stream",
     "text": [
      "C:\\Users\\OEA Consults\\AppData\\Local\\Temp\\ipykernel_15236\\2381834214.py:5: UserWarning: Column names longer than 10 characters will be truncated when saved to ESRI Shapefile.\n",
      "  state_lines.to_file(state_filename)\n"
     ]
    },
    {
     "name": "stdout",
     "output_type": "stream",
     "text": [
      "Successfully saved Osun_Roads.shp\n",
      "Successfully converted Osun_Roads.shp to Osun_Roads.kml\n"
     ]
    },
    {
     "name": "stderr",
     "output_type": "stream",
     "text": [
      "C:\\Users\\OEA Consults\\AppData\\Local\\Temp\\ipykernel_15236\\2381834214.py:5: UserWarning: Column names longer than 10 characters will be truncated when saved to ESRI Shapefile.\n",
      "  state_lines.to_file(state_filename)\n"
     ]
    },
    {
     "name": "stdout",
     "output_type": "stream",
     "text": [
      "Successfully saved Niger_Roads.shp\n",
      "Successfully converted Niger_Roads.shp to Niger_Roads.kml\n"
     ]
    },
    {
     "name": "stderr",
     "output_type": "stream",
     "text": [
      "C:\\Users\\OEA Consults\\AppData\\Local\\Temp\\ipykernel_15236\\2381834214.py:5: UserWarning: Column names longer than 10 characters will be truncated when saved to ESRI Shapefile.\n",
      "  state_lines.to_file(state_filename)\n"
     ]
    },
    {
     "name": "stdout",
     "output_type": "stream",
     "text": [
      "Successfully saved Bayelsa_Roads.shp\n",
      "Successfully converted Bayelsa_Roads.shp to Bayelsa_Roads.kml\n"
     ]
    }
   ],
   "source": [
    "states = joined_data['state_name'].unique()\n",
    "for state in states:\n",
    "    state_lines = joined_data[joined_data['state_name'] == state]\n",
    "    state_filename = f'{state}_Roads.shp'\n",
    "    state_lines.to_file(state_filename)\n",
    "    print(f'Successfully saved {state_filename}')\n",
    "    \n",
    "    # Convert to KML\n",
    "    kml_filename = os.path.splitext(state_filename)[0] + '.kml'\n",
    "    os.system(f'ogr2ogr -f \"KML\" {kml_filename} {state_filename}')\n",
    "    print(f'Successfully converted {state_filename} to {kml_filename}')"
   ]
  },
  {
   "cell_type": "code",
   "execution_count": null,
   "id": "7e5e6dc0-7889-46d0-b958-0eb86b8c2cfb",
   "metadata": {},
   "outputs": [],
   "source": []
  }
 ],
 "metadata": {
  "kernelspec": {
   "display_name": "Geospatial_Lab",
   "language": "python",
   "name": "geospatial_lab"
  },
  "language_info": {
   "codemirror_mode": {
    "name": "ipython",
    "version": 3
   },
   "file_extension": ".py",
   "mimetype": "text/x-python",
   "name": "python",
   "nbconvert_exporter": "python",
   "pygments_lexer": "ipython3",
   "version": "3.9.13"
  }
 },
 "nbformat": 4,
 "nbformat_minor": 5
}
