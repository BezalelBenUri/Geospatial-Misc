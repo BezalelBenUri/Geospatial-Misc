{
 "cells": [
  {
   "cell_type": "code",
   "execution_count": 1,
   "id": "74e8d6ec-ff99-4477-9070-a83f4009480d",
   "metadata": {},
   "outputs": [
    {
     "name": "stderr",
     "output_type": "stream",
     "text": [
      "D:\\AI\\Python\\Virtual_Environments\\Geospatial_Lab\\lib\\site-packages\\geopandas\\_compat.py:112: UserWarning: The Shapely GEOS version (3.10.1-CAPI-1.16.0) is incompatible with the GEOS version PyGEOS was compiled with (3.10.4-CAPI-1.16.2). Conversions between both will be slow.\n",
      "  warnings.warn(\n"
     ]
    }
   ],
   "source": [
    "import os\n",
    "\n",
    "import numpy as np\n",
    "\n",
    "import geopandas as gpd\n",
    "\n",
    "from sklearn.cluster import KMeans\n",
    "\n",
    "base_dir = \"C:/Users/OEA Consults/Documents/A.I/OEA/Python Scripts/Goo\""
   ]
  },
  {
   "cell_type": "markdown",
   "id": "e9c7f712-4d45-40f2-8289-d1d4c9d519da",
   "metadata": {},
   "source": [
    "* Loop through each folder\n",
    "* Check if its a directory and not a folder\n",
    "* Loop through each shapefile in the state's folder\n",
    "* Read in the shapefile using Geopandas\n",
    "* Extract coordinates from the geometry array\n",
    "* Convert coordinates to a numpy array\n",
    "* Perform clustering using KMeans\n",
    "* Add cluster labels to the shapefile\n",
    "* save the shapefile"
   ]
  },
  {
   "cell_type": "code",
   "execution_count": 2,
   "id": "a46f3d1a-2ab5-48a7-b6cb-2a67b6804452",
   "metadata": {},
   "outputs": [],
   "source": [
    "for state_folder in os.listdir(base_dir):\n",
    "    if os.path.isdir(os.path.join(base_dir, state_folder)):\n",
    "        for file in os.listdir(os.path.join(base_dir, state_folder)):\n",
    "            if file.endswith(\".shp\"):\n",
    "                shapefile = gpd.read_file(os.path.join(base_dir, state_folder))\n",
    "                \n",
    "                coords = [geom.coords[0] for geom in shapefile.geometry]\n",
    "                data = np.array(coords)\n",
    "\n",
    "                kmeans = KMeans(n_clusters = 20)\n",
    "                cluster = kmeans.fit_predict(data)\n",
    "\n",
    "                shapefile[\"cluster\"] = cluster\n",
    "\n",
    "                shapefile.to_file(os.path.join(base_dir, state_folder, file[:-4] + \"_clustered.shp\"))"
   ]
  },
  {
   "cell_type": "code",
   "execution_count": null,
   "id": "432cf8cc-077f-414f-bb13-bf1b7ffd6a4d",
   "metadata": {},
   "outputs": [],
   "source": []
  }
 ],
 "metadata": {
  "kernelspec": {
   "display_name": "Geospatial_Lab",
   "language": "python",
   "name": "geospatial_lab"
  },
  "language_info": {
   "codemirror_mode": {
    "name": "ipython",
    "version": 3
   },
   "file_extension": ".py",
   "mimetype": "text/x-python",
   "name": "python",
   "nbconvert_exporter": "python",
   "pygments_lexer": "ipython3",
   "version": "3.9.13"
  }
 },
 "nbformat": 4,
 "nbformat_minor": 5
}
